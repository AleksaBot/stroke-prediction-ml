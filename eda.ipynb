{
 "cells": [
  {
   "cell_type": "code",
   "execution_count": 25,
   "id": "1fd1a8fe-ebc9-4418-a945-9717ec79791a",
   "metadata": {},
   "outputs": [
    {
     "name": "stdout",
     "output_type": "stream",
     "text": [
      "📂 Current notebook path: C:\\Users\\aleks_k53ffb4\\OneDrive\\Desktop\\Coding\\Stroke-Prediction-ml\n"
     ]
    }
   ],
   "source": [
    "import pandas as pd\n",
    "import matplotlib.pyplot as plt\n",
    "import seaborn as sns\n",
    "import os\n",
    "from sklearn.model_selection import train_test_split\n",
    "from sklearn.preprocessing import StandardScaler, LabelEncoder\n",
    "from imblearn.over_sampling import SMOTE\n",
    "from sklearn.ensemble import RandomForestClassifier\n",
    "from sklearn.feature_selection import RFE\n",
    "import pandas as pd\n",
    "from sklearn.metrics import classification_report, roc_auc_score\n",
    "from sklearn.ensemble import RandomForestClassifier\n",
    "from sklearn.linear_model import LogisticRegression\n",
    "from sklearn.svm import SVC\n",
    "from xgboost import XGBClassifier\n",
    "import joblib\n",
    "\n",
    "print(\"📂 Current notebook path:\", os.getcwd())"
   ]
  },
  {
   "cell_type": "code",
   "execution_count": 16,
   "id": "4a90012a-4507-45e6-81dd-507104e60d39",
   "metadata": {},
   "outputs": [
    {
     "data": {
      "text/html": [
       "<div>\n",
       "<style scoped>\n",
       "    .dataframe tbody tr th:only-of-type {\n",
       "        vertical-align: middle;\n",
       "    }\n",
       "\n",
       "    .dataframe tbody tr th {\n",
       "        vertical-align: top;\n",
       "    }\n",
       "\n",
       "    .dataframe thead th {\n",
       "        text-align: right;\n",
       "    }\n",
       "</style>\n",
       "<table border=\"1\" class=\"dataframe\">\n",
       "  <thead>\n",
       "    <tr style=\"text-align: right;\">\n",
       "      <th></th>\n",
       "      <th>id</th>\n",
       "      <th>gender</th>\n",
       "      <th>age</th>\n",
       "      <th>hypertension</th>\n",
       "      <th>heart_disease</th>\n",
       "      <th>ever_married</th>\n",
       "      <th>work_type</th>\n",
       "      <th>Residence_type</th>\n",
       "      <th>avg_glucose_level</th>\n",
       "      <th>bmi</th>\n",
       "      <th>smoking_status</th>\n",
       "      <th>stroke</th>\n",
       "    </tr>\n",
       "  </thead>\n",
       "  <tbody>\n",
       "    <tr>\n",
       "      <th>0</th>\n",
       "      <td>9046</td>\n",
       "      <td>Male</td>\n",
       "      <td>67.0</td>\n",
       "      <td>0</td>\n",
       "      <td>1</td>\n",
       "      <td>Yes</td>\n",
       "      <td>Private</td>\n",
       "      <td>Urban</td>\n",
       "      <td>228.69</td>\n",
       "      <td>36.6</td>\n",
       "      <td>formerly smoked</td>\n",
       "      <td>1</td>\n",
       "    </tr>\n",
       "    <tr>\n",
       "      <th>1</th>\n",
       "      <td>51676</td>\n",
       "      <td>Female</td>\n",
       "      <td>61.0</td>\n",
       "      <td>0</td>\n",
       "      <td>0</td>\n",
       "      <td>Yes</td>\n",
       "      <td>Self-employed</td>\n",
       "      <td>Rural</td>\n",
       "      <td>202.21</td>\n",
       "      <td>NaN</td>\n",
       "      <td>never smoked</td>\n",
       "      <td>1</td>\n",
       "    </tr>\n",
       "    <tr>\n",
       "      <th>2</th>\n",
       "      <td>31112</td>\n",
       "      <td>Male</td>\n",
       "      <td>80.0</td>\n",
       "      <td>0</td>\n",
       "      <td>1</td>\n",
       "      <td>Yes</td>\n",
       "      <td>Private</td>\n",
       "      <td>Rural</td>\n",
       "      <td>105.92</td>\n",
       "      <td>32.5</td>\n",
       "      <td>never smoked</td>\n",
       "      <td>1</td>\n",
       "    </tr>\n",
       "    <tr>\n",
       "      <th>3</th>\n",
       "      <td>60182</td>\n",
       "      <td>Female</td>\n",
       "      <td>49.0</td>\n",
       "      <td>0</td>\n",
       "      <td>0</td>\n",
       "      <td>Yes</td>\n",
       "      <td>Private</td>\n",
       "      <td>Urban</td>\n",
       "      <td>171.23</td>\n",
       "      <td>34.4</td>\n",
       "      <td>smokes</td>\n",
       "      <td>1</td>\n",
       "    </tr>\n",
       "    <tr>\n",
       "      <th>4</th>\n",
       "      <td>1665</td>\n",
       "      <td>Female</td>\n",
       "      <td>79.0</td>\n",
       "      <td>1</td>\n",
       "      <td>0</td>\n",
       "      <td>Yes</td>\n",
       "      <td>Self-employed</td>\n",
       "      <td>Rural</td>\n",
       "      <td>174.12</td>\n",
       "      <td>24.0</td>\n",
       "      <td>never smoked</td>\n",
       "      <td>1</td>\n",
       "    </tr>\n",
       "  </tbody>\n",
       "</table>\n",
       "</div>"
      ],
      "text/plain": [
       "      id  gender   age  hypertension  heart_disease ever_married  \\\n",
       "0   9046    Male  67.0             0              1          Yes   \n",
       "1  51676  Female  61.0             0              0          Yes   \n",
       "2  31112    Male  80.0             0              1          Yes   \n",
       "3  60182  Female  49.0             0              0          Yes   \n",
       "4   1665  Female  79.0             1              0          Yes   \n",
       "\n",
       "       work_type Residence_type  avg_glucose_level   bmi   smoking_status  \\\n",
       "0        Private          Urban             228.69  36.6  formerly smoked   \n",
       "1  Self-employed          Rural             202.21   NaN     never smoked   \n",
       "2        Private          Rural             105.92  32.5     never smoked   \n",
       "3        Private          Urban             171.23  34.4           smokes   \n",
       "4  Self-employed          Rural             174.12  24.0     never smoked   \n",
       "\n",
       "   stroke  \n",
       "0       1  \n",
       "1       1  \n",
       "2       1  \n",
       "3       1  \n",
       "4       1  "
      ]
     },
     "metadata": {},
     "output_type": "display_data"
    },
    {
     "name": "stdout",
     "output_type": "stream",
     "text": [
      "\n",
      "🧠 Dataset shape: (5110, 12)\n",
      "\n",
      "📊 Missing values:\n",
      " id                     0\n",
      "gender                 0\n",
      "age                    0\n",
      "hypertension           0\n",
      "heart_disease          0\n",
      "ever_married           0\n",
      "work_type              0\n",
      "Residence_type         0\n",
      "avg_glucose_level      0\n",
      "bmi                  201\n",
      "smoking_status         0\n",
      "stroke                 0\n",
      "dtype: int64\n",
      "\n",
      "📋 Data types:\n",
      " id                     int64\n",
      "gender                object\n",
      "age                  float64\n",
      "hypertension           int64\n",
      "heart_disease          int64\n",
      "ever_married          object\n",
      "work_type             object\n",
      "Residence_type        object\n",
      "avg_glucose_level    float64\n",
      "bmi                  float64\n",
      "smoking_status        object\n",
      "stroke                 int64\n",
      "dtype: object\n",
      "\n",
      "🔍 Class distribution:\n",
      " stroke\n",
      "0    4861\n",
      "1     249\n",
      "Name: count, dtype: int64\n"
     ]
    }
   ],
   "source": [
    "# Load the dataset\n",
    "df = pd.read_csv(\"data/raw/stroke.csv\")\n",
    "\n",
    "# Quick overview\n",
    "display(df.head())\n",
    "print(\"\\n🧠 Dataset shape:\", df.shape)\n",
    "print(\"\\n📊 Missing values:\\n\", df.isnull().sum())\n",
    "print(\"\\n📋 Data types:\\n\", df.dtypes)\n",
    "print(\"\\n🔍 Class distribution:\\n\", df['stroke'].value_counts())"
   ]
  },
  {
   "cell_type": "code",
   "execution_count": 11,
   "id": "ec11ebd0-a6c6-41a8-b700-91120fa8dab7",
   "metadata": {},
   "outputs": [
    {
     "data": {
      "image/png": "[encoded data removed]",
      "text/plain": [
       "<Figure size 640x480 with 1 Axes>"
      ]
     },
     "metadata": {},
     "output_type": "display_data"
    }
   ],
   "source": [
    "# Visualize class imbalance\n",
    "sns.countplot(data=df, x='stroke')\n",
    "plt.title(\"Stroke Class Distribution\")\n",
    "plt.show()"
   ]
  },
  {
   "cell_type": "code",
   "execution_count": 17,
   "id": "1b282321-1b79-4d1c-8444-c5fce6cbae1d",
   "metadata": {},
   "outputs": [],
   "source": [
    "# Drop ID\n",
    "if 'id' in df.columns:\n",
    "    df.drop(columns=['id'], inplace=True, errors='ignore')\n",
    "\n",
    "\n",
    "\n",
    "# Impute missing BMI with median\n",
    "df['bmi'] = df['bmi'].fillna(df['bmi'].median())\n",
    "\n",
    "# Encode binary 'ever_married' and 'Residence_type'\n",
    "df['ever_married'] = df['ever_married'].map({'Yes': 1, 'No': 0})\n",
    "df['Residence_type'] = df['Residence_type'].map({'Urban': 1, 'Rural': 0})\n",
    "\n",
    "# One-hot encode other categoricals\n",
    "df = pd.get_dummies(df, columns=['gender', 'work_type', 'smoking_status'], drop_first=True)\n"
   ]
  },
  {
   "cell_type": "code",
   "execution_count": 18,
   "id": "0078dd92-a70a-4831-8fa0-066a7b7f2cd7",
   "metadata": {},
   "outputs": [],
   "source": [
    "# Split features & target\n",
    "X = df.drop(columns=['stroke'])\n",
    "y = df['stroke']\n",
    "\n",
    "# Train-test split\n",
    "X_train, X_test, y_train, y_test = train_test_split(X, y, test_size=0.2, stratify=y, random_state=42)\n",
    "\n",
    "# Scale numeric features\n",
    "scaler = StandardScaler()\n",
    "X_train_scaled = scaler.fit_transform(X_train)\n",
    "X_test_scaled = scaler.transform(X_test)"
   ]
  },
  {
   "cell_type": "code",
   "execution_count": 19,
   "id": "45ba2a51-e2f0-4c0f-9be5-0c504aec1011",
   "metadata": {},
   "outputs": [
    {
     "name": "stdout",
     "output_type": "stream",
     "text": [
      "✅ Preprocessing complete.\n",
      "X_train shape (after SMOTE): (7778, 16)\n",
      "y_train distribution:\n",
      " stroke\n",
      "0    3889\n",
      "1    3889\n",
      "Name: count, dtype: int64\n"
     ]
    }
   ],
   "source": [
    "# Handle imbalance with SMOTE\n",
    "smote = SMOTE(random_state=42)\n",
    "X_train_bal, y_train_bal = smote.fit_resample(X_train_scaled, y_train)\n",
    "\n",
    "print(\"✅ Preprocessing complete.\")\n",
    "print(\"X_train shape (after SMOTE):\", X_train_bal.shape)\n",
    "print(\"y_train distribution:\\n\", pd.Series(y_train_bal).value_counts())"
   ]
  },
  {
   "cell_type": "code",
   "execution_count": 22,
   "id": "eabcfc2a-838a-4d25-9951-0a2181943237",
   "metadata": {},
   "outputs": [
    {
     "name": "stdout",
     "output_type": "stream",
     "text": [
      "✅ Top 10 Selected Features:\n",
      "Index(['age', 'hypertension', 'ever_married', 'Residence_type',\n",
      "       'avg_glucose_level', 'bmi', 'gender_Male', 'work_type_Private',\n",
      "       'work_type_Self-employed', 'smoking_status_never smoked'],\n",
      "      dtype='object')\n",
      "\n",
      "📊 Feature Ranking (1 = selected):\n",
      "age                               1\n",
      "hypertension                      1\n",
      "ever_married                      1\n",
      "Residence_type                    1\n",
      "bmi                               1\n",
      "avg_glucose_level                 1\n",
      "gender_Male                       1\n",
      "work_type_Self-employed           1\n",
      "smoking_status_never smoked       1\n",
      "work_type_Private                 1\n",
      "heart_disease                     2\n",
      "smoking_status_formerly smoked    3\n",
      "smoking_status_smokes             4\n",
      "work_type_children                5\n",
      "work_type_Never_worked            6\n",
      "gender_Other                      7\n",
      "dtype: int64\n"
     ]
    }
   ],
   "source": [
    "# Use original feature names after scaling\n",
    "feature_names = X_train.columns\n",
    "\n",
    "# Use RFE to rank features\n",
    "rfc = RandomForestClassifier(n_estimators=100, random_state=42)\n",
    "rfe = RFE(estimator=rfc, n_features_to_select=10)\n",
    "rfe.fit(X_train_bal, y_train_bal)\n",
    "\n",
    "# Show selected features\n",
    "selected_features = feature_names[rfe.support_]\n",
    "ranking = pd.Series(rfe.ranking_, index=feature_names)\n",
    "\n",
    "print(\"✅ Top 10 Selected Features:\")\n",
    "print(selected_features)\n",
    "\n",
    "print(\"\\n📊 Feature Ranking (1 = selected):\")\n",
    "print(ranking.sort_values())\n"
   ]
  },
  {
   "cell_type": "code",
   "execution_count": 24,
   "id": "d3121403-c8be-4801-87b7-d0e317cb075c",
   "metadata": {},
   "outputs": [
    {
     "name": "stdout",
     "output_type": "stream",
     "text": [
      "\n",
      "🔍 Model: Random Forest\n",
      "✅ Classification Report:\n",
      "              precision    recall  f1-score   support\n",
      "\n",
      "           0       0.96      0.95      0.95       972\n",
      "           1       0.14      0.16      0.15        50\n",
      "\n",
      "    accuracy                           0.91      1022\n",
      "   macro avg       0.55      0.56      0.55      1022\n",
      "weighted avg       0.92      0.91      0.91      1022\n",
      "\n",
      "🎯 ROC-AUC Score: 0.756141975308642\n",
      "\n",
      "🔍 Model: Logistic Regression\n",
      "✅ Classification Report:\n",
      "              precision    recall  f1-score   support\n",
      "\n",
      "           0       0.99      0.75      0.85       972\n",
      "           1       0.14      0.80      0.24        50\n",
      "\n",
      "    accuracy                           0.75      1022\n",
      "   macro avg       0.56      0.77      0.54      1022\n",
      "weighted avg       0.94      0.75      0.82      1022\n",
      "\n",
      "🎯 ROC-AUC Score: 0.8427572016460905\n",
      "\n",
      "🔍 Model: SVM\n",
      "✅ Classification Report:\n",
      "              precision    recall  f1-score   support\n",
      "\n",
      "           0       0.97      0.82      0.89       972\n",
      "           1       0.13      0.54      0.21        50\n",
      "\n",
      "    accuracy                           0.80      1022\n",
      "   macro avg       0.55      0.68      0.55      1022\n",
      "weighted avg       0.93      0.80      0.85      1022\n",
      "\n",
      "🎯 ROC-AUC Score: 0.7904938271604938\n"
     ]
    },
    {
     "name": "stderr",
     "output_type": "stream",
     "text": [
      "C:\\Users\\aleks_k53ffb4\\anaconda3\\envs\\stroke-predict-env\\lib\\site-packages\\xgboost\\core.py:158: UserWarning: [14:13:20] WARNING: C:\\b\\abs_52v3kadn8m\\croot\\xgboost-split_1748343554494\\work\\src\\learner.cc:740: \n",
      "Parameters: { \"use_label_encoder\" } are not used.\n",
      "\n",
      "  warnings.warn(smsg, UserWarning)\n"
     ]
    },
    {
     "name": "stdout",
     "output_type": "stream",
     "text": [
      "\n",
      "🔍 Model: XGBoost\n",
      "✅ Classification Report:\n",
      "              precision    recall  f1-score   support\n",
      "\n",
      "           0       0.96      0.96      0.96       972\n",
      "           1       0.17      0.14      0.15        50\n",
      "\n",
      "    accuracy                           0.92      1022\n",
      "   macro avg       0.56      0.55      0.56      1022\n",
      "weighted avg       0.92      0.92      0.92      1022\n",
      "\n",
      "🎯 ROC-AUC Score: 0.7680864197530864\n"
     ]
    }
   ],
   "source": [
    "# Select only the top features\n",
    "X_train_sel = X_train_bal[:, rfe.support_]\n",
    "X_test_sel = X_test_scaled[:, rfe.support_]\n",
    "\n",
    "models = {\n",
    "    \"Random Forest\": RandomForestClassifier(random_state=42),\n",
    "    \"Logistic Regression\": LogisticRegression(max_iter=1000, random_state=42),\n",
    "    \"SVM\": SVC(probability=True, random_state=42),\n",
    "    \"XGBoost\": XGBClassifier(use_label_encoder=False, eval_metric='logloss', random_state=42)\n",
    "}\n",
    "\n",
    "for name, model in models.items():\n",
    "    model.fit(X_train_sel, y_train_bal)\n",
    "    preds = model.predict(X_test_sel)\n",
    "    probs = model.predict_proba(X_test_sel)[:, 1]\n",
    "    \n",
    "    print(f\"\\n🔍 Model: {name}\")\n",
    "    print(\"✅ Classification Report:\")\n",
    "    print(classification_report(y_test, preds))\n",
    "    print(\"🎯 ROC-AUC Score:\", roc_auc_score(y_test, probs))"
   ]
  },
  {
   "cell_type": "code",
   "execution_count": 26,
   "id": "bbc5ce97-d656-415d-8e02-5f299145afed",
   "metadata": {},
   "outputs": [
    {
     "name": "stdout",
     "output_type": "stream",
     "text": [
      "✅ Model saved to models/logistic_regression_stroke.pkl\n"
     ]
    }
   ],
   "source": [
    "# Save best model\n",
    "best_model = LogisticRegression(max_iter=1000, random_state=42)\n",
    "best_model.fit(X_train_sel, y_train_bal)\n",
    "\n",
    "joblib.dump(best_model, \"models/logistic_regression_stroke.pkl\")\n",
    "print(\"✅ Model saved to models/logistic_regression_stroke.pkl\")"
   ]
  },
  {
   "cell_type": "code",
   "execution_count": null,
   "id": "120d5f3f-2b39-409a-b58d-c5aeb74a80b0",
   "metadata": {},
   "outputs": [],
   "source": []
  }
 ],
 "metadata": {
  "kernelspec": {
   "display_name": "Python 3 (ipykernel)",
   "language": "python",
   "name": "python3"
  },
  "language_info": {
   "codemirror_mode": {
    "name": "ipython",
    "version": 3
   },
   "file_extension": ".py",
   "mimetype": "text/x-python",
   "name": "python",
   "nbconvert_exporter": "python",
   "pygments_lexer": "ipython3",
   "version": "3.10.18"
  }
 },
 "nbformat": 4,
 "nbformat_minor": 5
}
